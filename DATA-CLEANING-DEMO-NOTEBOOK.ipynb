{
 "cells": [
  {
   "cell_type": "code",
   "execution_count": null,
   "metadata": {},
   "outputs": [],
   "source": [
    "import pandas as pd\n",
    "import numpy as np\n",
    "\n",
    "college = pd.read_csv(r'college-salaries/salaries-by-college-type.csv')\n",
    "\n",
    "# NOTEBOOK CREATED BY: Vincent Lao\n",
    "# https://www.kaggle.com/wsj/college-salaries"
   ]
  },
  {
   "cell_type": "code",
   "execution_count": null,
   "metadata": {},
   "outputs": [],
   "source": [
    "college.head(5)"
   ]
  },
  {
   "cell_type": "code",
   "execution_count": null,
   "metadata": {},
   "outputs": [],
   "source": [
    "college.isnull().sum()"
   ]
  },
  {
   "cell_type": "code",
   "execution_count": null,
   "metadata": {},
   "outputs": [],
   "source": [
    "college.shape"
   ]
  },
  {
   "cell_type": "code",
   "execution_count": null,
   "metadata": {},
   "outputs": [],
   "source": [
    "region = pd.read_csv(r'college-salaries/salaries-by-region.csv')\n",
    "region.head()"
   ]
  },
  {
   "cell_type": "code",
   "execution_count": null,
   "metadata": {},
   "outputs": [],
   "source": [
    "region.isnull().sum()"
   ]
  },
  {
   "cell_type": "code",
   "execution_count": null,
   "metadata": {},
   "outputs": [],
   "source": [
    "region.shape"
   ]
  },
  {
   "cell_type": "code",
   "execution_count": null,
   "metadata": {},
   "outputs": [],
   "source": [
    "region[\"Mid-Career 10th Percentile Salary\"].head()"
   ]
  },
  {
   "cell_type": "code",
   "execution_count": null,
   "metadata": {},
   "outputs": [],
   "source": [
    "college[college['School Name'].str.contains('University of California')]\n",
    "# choose the indices (rows) from college where the 'School Name' contains the string 'University of California'"
   ]
  },
  {
   "cell_type": "code",
   "execution_count": null,
   "metadata": {
    "scrolled": true
   },
   "outputs": [],
   "source": [
    "cols = [\"School Name\", \"Starting Median Salary\", \"Mid-Career Median Salary\", \"Mid-Career 10th Percentile Salary\", \"Mid-Career 25th Percentile Salary\", \"Mid-Career 75th Percentile Salary\", \"Mid-Career 90th Percentile Salary\"]\n",
    "combined = college.merge(region, how='outer', on=cols)\n",
    "combined.head()"
   ]
  },
  {
   "cell_type": "code",
   "execution_count": null,
   "metadata": {},
   "outputs": [],
   "source": [
    "combined.isnull().sum()"
   ]
  },
  {
   "cell_type": "code",
   "execution_count": null,
   "metadata": {},
   "outputs": [],
   "source": [
    "combined.shape"
   ]
  },
  {
   "cell_type": "code",
   "execution_count": null,
   "metadata": {},
   "outputs": [],
   "source": [
    "missing = combined[combined[\"Mid-Career 10th Percentile Salary\"].isnull()]\n",
    "missing.head()"
   ]
  },
  {
   "cell_type": "code",
   "execution_count": null,
   "metadata": {},
   "outputs": [],
   "source": [
    "# If 25th percentile == x, and 75th percentile == y, and we assume that it's roughly normal, then we can find a rough mean,\n",
    "# and use z-score to calculate the 10th and 90th percentile to fill in our data.\n",
    "missing.where(missing[\"Mid-Career 10th Percentile Salary\"].isnull()).index \\\n",
    "== missing.where(missing[\"Mid-Career 90th Percentile Salary\"].isnull()).index"
   ]
  },
  {
   "cell_type": "code",
   "execution_count": null,
   "metadata": {},
   "outputs": [],
   "source": [
    "s# Any guesses for the median starting salaries?\n",
    "np.mean(missing[\"Mid-Career 25th Percentile Salary\"])"
   ]
  },
  {
   "cell_type": "markdown",
   "metadata": {},
   "source": [
    "### It errors! Why?\n",
    "If you look closely, the data is actually strings that start with a dollar sign and includes commas. Without thinking too much about it, we don't realize that the commas and dollar signs are even there -- it's just intuitive for us, but the computer sees it. Let's fix it."
   ]
  },
  {
   "cell_type": "code",
   "execution_count": null,
   "metadata": {},
   "outputs": [],
   "source": [
    "missing[\"Mid-Career 25th Percentile Salary\"] = missing[\"Mid-Career 25th Percentile Salary\"].copy().str.replace(r\"\\$|,\", \"\").astype(float);\n",
    "missing[\"Mid-Career 75th Percentile Salary\"] = missing[\"Mid-Career 75th Percentile Salary\"].copy().str.replace(r\"\\$|,\", \"\").astype(float);"
   ]
  },
  {
   "cell_type": "code",
   "execution_count": null,
   "metadata": {},
   "outputs": [],
   "source": [
    "mus = (missing[\"Mid-Career 25th Percentile Salary\"] + missing[\"Mid-Career 75th Percentile Salary\"]) / 2\n",
    "mus.head()"
   ]
  },
  {
   "cell_type": "code",
   "execution_count": null,
   "metadata": {},
   "outputs": [],
   "source": [
    "with_mus = missing.copy()\n",
    "with_mus[\"Mid-Career 50th Percentile Salary\"] = mus\n",
    "with_mus.head()"
   ]
  },
  {
   "cell_type": "code",
   "execution_count": null,
   "metadata": {},
   "outputs": [],
   "source": [
    "# If 25th percentile == x, and 75th percentile == y, and we assume that it's roughly normal, then we can find a rough mean,\n",
    "# and use z-score to calculate the 10th and 90th percentile to fill in our data.\n",
    "z_10 = -1.282\n",
    "z_25 = -0.675\n",
    "z_75 = 0.675\n",
    "z_90 = 1.282\n",
    "\n",
    "# Z = (X - mu) / sigma; ex: for Caltech, z_25 = (123,000 - 132500) / sigma; sigma = (123,000 - 132,500) / -0.675\n",
    "sigmas_from_25 = (with_mus[\"Mid-Career 25th Percentile Salary\"] -  with_mus[\"Mid-Career 50th Percentile Salary\"]) / -0.675\n",
    "sigmas_from_25.head()"
   ]
  },
  {
   "cell_type": "code",
   "execution_count": null,
   "metadata": {},
   "outputs": [],
   "source": [
    "# Check that we get the same sigmas from\n",
    "sigmas_from_75 = (with_mus[\"Mid-Career 25th Percentile Salary\"] -  with_mus[\"Mid-Career 50th Percentile Salary\"]) / -0.675\n",
    "sigmas_from_75.head()"
   ]
  },
  {
   "cell_type": "code",
   "execution_count": null,
   "metadata": {},
   "outputs": [],
   "source": [
    "with_mus_sds = with_mus.copy()\n",
    "with_mus_sds[\"Mid-Career SD\"] = sigmas_from_25\n",
    "with_mus_sds.head()"
   ]
  },
  {
   "cell_type": "code",
   "execution_count": null,
   "metadata": {},
   "outputs": [],
   "source": [
    "# Z_10 = (X_10 - mu) / sigma; X_10 = Z_10 * sigma + mu\n",
    "filled = with_mus_sds.copy()\n",
    "filled[\"Mid-Career 10th Percentile Salary\"] = z_10 * filled[\"Mid-Career SD\"] + filled[\"Mid-Career 50th Percentile Salary\"]\n",
    "\n",
    "# Z_90 = (X_90 - mu) / sigma; X_90 = Z_90 * sigma + mu\n",
    "filled[\"Mid-Career 90th Percentile Salary\"] = z_90 * filled[\"Mid-Career SD\"] + filled[\"Mid-Career 50th Percentile Salary\"]"
   ]
  },
  {
   "cell_type": "code",
   "execution_count": null,
   "metadata": {},
   "outputs": [],
   "source": [
    "filled.head()"
   ]
  },
  {
   "cell_type": "code",
   "execution_count": null,
   "metadata": {},
   "outputs": [],
   "source": [
    "final = filled.merge(combined, how=\"left\", on=cols + [\"School Type\", \"Region\"]).head()\n",
    "final.head()"
   ]
  },
  {
   "cell_type": "code",
   "execution_count": null,
   "metadata": {},
   "outputs": [],
   "source": [
    "final.isnull().sum()"
   ]
  },
  {
   "cell_type": "markdown",
   "metadata": {
    "collapsed": true
   },
   "source": [
    "Good job getting through this document!\n",
    "There's plenty of other ways to clean data, but here's just a couple to start off :)\n",
    "Ask your mentors questions if you are confused!\n",
    "-Vincent Lao"
   ]
  }
 ],
 "metadata": {
  "kernelspec": {
   "display_name": "Python 3",
   "language": "python",
   "name": "python3"
  },
  "language_info": {
   "codemirror_mode": {
    "name": "ipython",
    "version": 3
   },
   "file_extension": ".py",
   "mimetype": "text/x-python",
   "name": "python",
   "nbconvert_exporter": "python",
   "pygments_lexer": "ipython3",
   "version": "3.6.8"
  }
 },
 "nbformat": 4,
 "nbformat_minor": 2
}
